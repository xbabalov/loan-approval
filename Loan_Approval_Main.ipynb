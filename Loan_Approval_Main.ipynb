{
  "nbformat": 4,
  "nbformat_minor": 0,
  "metadata": {
    "colab": {
      "provenance": [],
      "collapsed_sections": [
        "P4MBQr6jfK4v",
        "XLVrW48Cfael"
      ]
    },
    "kernelspec": {
      "name": "python3",
      "display_name": "Python 3"
    },
    "language_info": {
      "name": "python"
    }
  },
  "cells": [
    {
      "cell_type": "markdown",
      "metadata": {
        "id": "WoCmVTWUW4YB"
      },
      "source": [
        "# **Loan approval**"
      ]
    },
    {
      "cell_type": "markdown",
      "metadata": {
        "id": "7elpWAYfft-4"
      },
      "source": [
        "# Introduction"
      ]
    },
    {
      "cell_type": "markdown",
      "metadata": {
        "id": "qzoNi8GOiXhZ"
      },
      "source": [
        "Our goal is to train a model that will predict whether bank should allow the loan based on applicants status.\n",
        "\n",
        "We put the csv files into sample_data folder."
      ]
    },
    {
      "cell_type": "code",
      "metadata": {
        "id": "8lB7ye5VW_Ql"
      },
      "source": [
        "import matplotlib.pyplot as plt\n",
        "import pandas as pd\n",
        "import seaborn as sns\n",
        "import numpy as np"
      ],
      "execution_count": null,
      "outputs": []
    },
    {
      "cell_type": "code",
      "metadata": {
        "id": "lTRLfCurXG5m",
        "colab": {
          "base_uri": "https://localhost:8080/",
          "height": 391
        },
        "outputId": "444c3fcb-1f46-453b-885d-d49277a1a975"
      },
      "source": [
        "train = pd.read_csv(\"/content/sample_data/loan_approval_train.csv\")\n",
        "test = pd.read_csv(\"/content/sample_data/loan_approval_test.csv\")"
      ],
      "execution_count": null,
      "outputs": [
        {
          "output_type": "error",
          "ename": "FileNotFoundError",
          "evalue": "ignored",
          "traceback": [
            "\u001b[0;31m---------------------------------------------------------------------------\u001b[0m",
            "\u001b[0;31mFileNotFoundError\u001b[0m                         Traceback (most recent call last)",
            "\u001b[0;32m<ipython-input-2-02d18cc630f8>\u001b[0m in \u001b[0;36m<module>\u001b[0;34m()\u001b[0m\n\u001b[0;32m----> 1\u001b[0;31m \u001b[0mtrain\u001b[0m \u001b[0;34m=\u001b[0m \u001b[0mpd\u001b[0m\u001b[0;34m.\u001b[0m\u001b[0mread_csv\u001b[0m\u001b[0;34m(\u001b[0m\u001b[0;34m\"/content/sample_data/loan_approval_train.csv\"\u001b[0m\u001b[0;34m)\u001b[0m\u001b[0;34m\u001b[0m\u001b[0;34m\u001b[0m\u001b[0m\n\u001b[0m\u001b[1;32m      2\u001b[0m \u001b[0mtest\u001b[0m \u001b[0;34m=\u001b[0m \u001b[0mpd\u001b[0m\u001b[0;34m.\u001b[0m\u001b[0mread_csv\u001b[0m\u001b[0;34m(\u001b[0m\u001b[0;34m\"/content/sample_data/loan_approval_test.csv\"\u001b[0m\u001b[0;34m)\u001b[0m\u001b[0;34m\u001b[0m\u001b[0;34m\u001b[0m\u001b[0m\n",
            "\u001b[0;32m/usr/local/lib/python3.7/dist-packages/pandas/io/parsers.py\u001b[0m in \u001b[0;36mread_csv\u001b[0;34m(filepath_or_buffer, sep, delimiter, header, names, index_col, usecols, squeeze, prefix, mangle_dupe_cols, dtype, engine, converters, true_values, false_values, skipinitialspace, skiprows, skipfooter, nrows, na_values, keep_default_na, na_filter, verbose, skip_blank_lines, parse_dates, infer_datetime_format, keep_date_col, date_parser, dayfirst, cache_dates, iterator, chunksize, compression, thousands, decimal, lineterminator, quotechar, quoting, doublequote, escapechar, comment, encoding, dialect, error_bad_lines, warn_bad_lines, delim_whitespace, low_memory, memory_map, float_precision)\u001b[0m\n\u001b[1;32m    686\u001b[0m     )\n\u001b[1;32m    687\u001b[0m \u001b[0;34m\u001b[0m\u001b[0m\n\u001b[0;32m--> 688\u001b[0;31m     \u001b[0;32mreturn\u001b[0m \u001b[0m_read\u001b[0m\u001b[0;34m(\u001b[0m\u001b[0mfilepath_or_buffer\u001b[0m\u001b[0;34m,\u001b[0m \u001b[0mkwds\u001b[0m\u001b[0;34m)\u001b[0m\u001b[0;34m\u001b[0m\u001b[0;34m\u001b[0m\u001b[0m\n\u001b[0m\u001b[1;32m    689\u001b[0m \u001b[0;34m\u001b[0m\u001b[0m\n\u001b[1;32m    690\u001b[0m \u001b[0;34m\u001b[0m\u001b[0m\n",
            "\u001b[0;32m/usr/local/lib/python3.7/dist-packages/pandas/io/parsers.py\u001b[0m in \u001b[0;36m_read\u001b[0;34m(filepath_or_buffer, kwds)\u001b[0m\n\u001b[1;32m    452\u001b[0m \u001b[0;34m\u001b[0m\u001b[0m\n\u001b[1;32m    453\u001b[0m     \u001b[0;31m# Create the parser.\u001b[0m\u001b[0;34m\u001b[0m\u001b[0;34m\u001b[0m\u001b[0;34m\u001b[0m\u001b[0m\n\u001b[0;32m--> 454\u001b[0;31m     \u001b[0mparser\u001b[0m \u001b[0;34m=\u001b[0m \u001b[0mTextFileReader\u001b[0m\u001b[0;34m(\u001b[0m\u001b[0mfp_or_buf\u001b[0m\u001b[0;34m,\u001b[0m \u001b[0;34m**\u001b[0m\u001b[0mkwds\u001b[0m\u001b[0;34m)\u001b[0m\u001b[0;34m\u001b[0m\u001b[0;34m\u001b[0m\u001b[0m\n\u001b[0m\u001b[1;32m    455\u001b[0m \u001b[0;34m\u001b[0m\u001b[0m\n\u001b[1;32m    456\u001b[0m     \u001b[0;32mif\u001b[0m \u001b[0mchunksize\u001b[0m \u001b[0;32mor\u001b[0m \u001b[0miterator\u001b[0m\u001b[0;34m:\u001b[0m\u001b[0;34m\u001b[0m\u001b[0;34m\u001b[0m\u001b[0m\n",
            "\u001b[0;32m/usr/local/lib/python3.7/dist-packages/pandas/io/parsers.py\u001b[0m in \u001b[0;36m__init__\u001b[0;34m(self, f, engine, **kwds)\u001b[0m\n\u001b[1;32m    946\u001b[0m             \u001b[0mself\u001b[0m\u001b[0;34m.\u001b[0m\u001b[0moptions\u001b[0m\u001b[0;34m[\u001b[0m\u001b[0;34m\"has_index_names\"\u001b[0m\u001b[0;34m]\u001b[0m \u001b[0;34m=\u001b[0m \u001b[0mkwds\u001b[0m\u001b[0;34m[\u001b[0m\u001b[0;34m\"has_index_names\"\u001b[0m\u001b[0;34m]\u001b[0m\u001b[0;34m\u001b[0m\u001b[0;34m\u001b[0m\u001b[0m\n\u001b[1;32m    947\u001b[0m \u001b[0;34m\u001b[0m\u001b[0m\n\u001b[0;32m--> 948\u001b[0;31m         \u001b[0mself\u001b[0m\u001b[0;34m.\u001b[0m\u001b[0m_make_engine\u001b[0m\u001b[0;34m(\u001b[0m\u001b[0mself\u001b[0m\u001b[0;34m.\u001b[0m\u001b[0mengine\u001b[0m\u001b[0;34m)\u001b[0m\u001b[0;34m\u001b[0m\u001b[0;34m\u001b[0m\u001b[0m\n\u001b[0m\u001b[1;32m    949\u001b[0m \u001b[0;34m\u001b[0m\u001b[0m\n\u001b[1;32m    950\u001b[0m     \u001b[0;32mdef\u001b[0m \u001b[0mclose\u001b[0m\u001b[0;34m(\u001b[0m\u001b[0mself\u001b[0m\u001b[0;34m)\u001b[0m\u001b[0;34m:\u001b[0m\u001b[0;34m\u001b[0m\u001b[0;34m\u001b[0m\u001b[0m\n",
            "\u001b[0;32m/usr/local/lib/python3.7/dist-packages/pandas/io/parsers.py\u001b[0m in \u001b[0;36m_make_engine\u001b[0;34m(self, engine)\u001b[0m\n\u001b[1;32m   1178\u001b[0m     \u001b[0;32mdef\u001b[0m \u001b[0m_make_engine\u001b[0m\u001b[0;34m(\u001b[0m\u001b[0mself\u001b[0m\u001b[0;34m,\u001b[0m \u001b[0mengine\u001b[0m\u001b[0;34m=\u001b[0m\u001b[0;34m\"c\"\u001b[0m\u001b[0;34m)\u001b[0m\u001b[0;34m:\u001b[0m\u001b[0;34m\u001b[0m\u001b[0;34m\u001b[0m\u001b[0m\n\u001b[1;32m   1179\u001b[0m         \u001b[0;32mif\u001b[0m \u001b[0mengine\u001b[0m \u001b[0;34m==\u001b[0m \u001b[0;34m\"c\"\u001b[0m\u001b[0;34m:\u001b[0m\u001b[0;34m\u001b[0m\u001b[0;34m\u001b[0m\u001b[0m\n\u001b[0;32m-> 1180\u001b[0;31m             \u001b[0mself\u001b[0m\u001b[0;34m.\u001b[0m\u001b[0m_engine\u001b[0m \u001b[0;34m=\u001b[0m \u001b[0mCParserWrapper\u001b[0m\u001b[0;34m(\u001b[0m\u001b[0mself\u001b[0m\u001b[0;34m.\u001b[0m\u001b[0mf\u001b[0m\u001b[0;34m,\u001b[0m \u001b[0;34m**\u001b[0m\u001b[0mself\u001b[0m\u001b[0;34m.\u001b[0m\u001b[0moptions\u001b[0m\u001b[0;34m)\u001b[0m\u001b[0;34m\u001b[0m\u001b[0;34m\u001b[0m\u001b[0m\n\u001b[0m\u001b[1;32m   1181\u001b[0m         \u001b[0;32melse\u001b[0m\u001b[0;34m:\u001b[0m\u001b[0;34m\u001b[0m\u001b[0;34m\u001b[0m\u001b[0m\n\u001b[1;32m   1182\u001b[0m             \u001b[0;32mif\u001b[0m \u001b[0mengine\u001b[0m \u001b[0;34m==\u001b[0m \u001b[0;34m\"python\"\u001b[0m\u001b[0;34m:\u001b[0m\u001b[0;34m\u001b[0m\u001b[0;34m\u001b[0m\u001b[0m\n",
            "\u001b[0;32m/usr/local/lib/python3.7/dist-packages/pandas/io/parsers.py\u001b[0m in \u001b[0;36m__init__\u001b[0;34m(self, src, **kwds)\u001b[0m\n\u001b[1;32m   2008\u001b[0m         \u001b[0mkwds\u001b[0m\u001b[0;34m[\u001b[0m\u001b[0;34m\"usecols\"\u001b[0m\u001b[0;34m]\u001b[0m \u001b[0;34m=\u001b[0m \u001b[0mself\u001b[0m\u001b[0;34m.\u001b[0m\u001b[0musecols\u001b[0m\u001b[0;34m\u001b[0m\u001b[0;34m\u001b[0m\u001b[0m\n\u001b[1;32m   2009\u001b[0m \u001b[0;34m\u001b[0m\u001b[0m\n\u001b[0;32m-> 2010\u001b[0;31m         \u001b[0mself\u001b[0m\u001b[0;34m.\u001b[0m\u001b[0m_reader\u001b[0m \u001b[0;34m=\u001b[0m \u001b[0mparsers\u001b[0m\u001b[0;34m.\u001b[0m\u001b[0mTextReader\u001b[0m\u001b[0;34m(\u001b[0m\u001b[0msrc\u001b[0m\u001b[0;34m,\u001b[0m \u001b[0;34m**\u001b[0m\u001b[0mkwds\u001b[0m\u001b[0;34m)\u001b[0m\u001b[0;34m\u001b[0m\u001b[0;34m\u001b[0m\u001b[0m\n\u001b[0m\u001b[1;32m   2011\u001b[0m         \u001b[0mself\u001b[0m\u001b[0;34m.\u001b[0m\u001b[0munnamed_cols\u001b[0m \u001b[0;34m=\u001b[0m \u001b[0mself\u001b[0m\u001b[0;34m.\u001b[0m\u001b[0m_reader\u001b[0m\u001b[0;34m.\u001b[0m\u001b[0munnamed_cols\u001b[0m\u001b[0;34m\u001b[0m\u001b[0;34m\u001b[0m\u001b[0m\n\u001b[1;32m   2012\u001b[0m \u001b[0;34m\u001b[0m\u001b[0m\n",
            "\u001b[0;32mpandas/_libs/parsers.pyx\u001b[0m in \u001b[0;36mpandas._libs.parsers.TextReader.__cinit__\u001b[0;34m()\u001b[0m\n",
            "\u001b[0;32mpandas/_libs/parsers.pyx\u001b[0m in \u001b[0;36mpandas._libs.parsers.TextReader._setup_parser_source\u001b[0;34m()\u001b[0m\n",
            "\u001b[0;31mFileNotFoundError\u001b[0m: [Errno 2] No such file or directory: '/content/sample_data/loan_approval_train.csv'"
          ]
        }
      ]
    },
    {
      "cell_type": "markdown",
      "metadata": {
        "id": "P4MBQr6jfK4v"
      },
      "source": [
        "# Exploration Analysis"
      ]
    },
    {
      "cell_type": "markdown",
      "metadata": {
        "id": "j_K97unhipBX"
      },
      "source": [
        "First, we explore the data - How does it look like? What attributes can be seen? What types of attributes are present? What attributes are useless and can be dropped?\n",
        "Just by looking at head of the dataset we can see Loan_ID will be redundant."
      ]
    },
    {
      "cell_type": "code",
      "metadata": {
        "id": "w_jdA9P5j-Ey",
        "colab": {
          "base_uri": "https://localhost:8080/"
        },
        "outputId": "7f33ae27-9f39-40de-f4f0-788f47bac1a2"
      },
      "source": [
        "train.head()"
      ],
      "execution_count": null,
      "outputs": [
        {
          "output_type": "execute_result",
          "data": {
            "text/html": [
              "<div>\n",
              "<style scoped>\n",
              "    .dataframe tbody tr th:only-of-type {\n",
              "        vertical-align: middle;\n",
              "    }\n",
              "\n",
              "    .dataframe tbody tr th {\n",
              "        vertical-align: top;\n",
              "    }\n",
              "\n",
              "    .dataframe thead th {\n",
              "        text-align: right;\n",
              "    }\n",
              "</style>\n",
              "<table border=\"1\" class=\"dataframe\">\n",
              "  <thead>\n",
              "    <tr style=\"text-align: right;\">\n",
              "      <th></th>\n",
              "      <th>Loan_ID</th>\n",
              "      <th>Gender</th>\n",
              "      <th>Married</th>\n",
              "      <th>Dependents</th>\n",
              "      <th>Education</th>\n",
              "      <th>Self_Employed</th>\n",
              "      <th>ApplicantIncome</th>\n",
              "      <th>CoapplicantIncome</th>\n",
              "      <th>LoanAmount</th>\n",
              "      <th>Loan_Amount_Term</th>\n",
              "      <th>Credit_History</th>\n",
              "      <th>Property_Area</th>\n",
              "      <th>Loan_Status</th>\n",
              "    </tr>\n",
              "  </thead>\n",
              "  <tbody>\n",
              "    <tr>\n",
              "      <th>0</th>\n",
              "      <td>LP001002</td>\n",
              "      <td>Male</td>\n",
              "      <td>No</td>\n",
              "      <td>0</td>\n",
              "      <td>Graduate</td>\n",
              "      <td>No</td>\n",
              "      <td>5849</td>\n",
              "      <td>0.0</td>\n",
              "      <td>NaN</td>\n",
              "      <td>360.0</td>\n",
              "      <td>1.0</td>\n",
              "      <td>Urban</td>\n",
              "      <td>Y</td>\n",
              "    </tr>\n",
              "    <tr>\n",
              "      <th>1</th>\n",
              "      <td>LP001003</td>\n",
              "      <td>Male</td>\n",
              "      <td>Yes</td>\n",
              "      <td>1</td>\n",
              "      <td>Graduate</td>\n",
              "      <td>No</td>\n",
              "      <td>4583</td>\n",
              "      <td>1508.0</td>\n",
              "      <td>128.0</td>\n",
              "      <td>360.0</td>\n",
              "      <td>1.0</td>\n",
              "      <td>Rural</td>\n",
              "      <td>N</td>\n",
              "    </tr>\n",
              "    <tr>\n",
              "      <th>2</th>\n",
              "      <td>LP001005</td>\n",
              "      <td>Male</td>\n",
              "      <td>Yes</td>\n",
              "      <td>0</td>\n",
              "      <td>Graduate</td>\n",
              "      <td>Yes</td>\n",
              "      <td>3000</td>\n",
              "      <td>0.0</td>\n",
              "      <td>66.0</td>\n",
              "      <td>360.0</td>\n",
              "      <td>1.0</td>\n",
              "      <td>Urban</td>\n",
              "      <td>Y</td>\n",
              "    </tr>\n",
              "    <tr>\n",
              "      <th>3</th>\n",
              "      <td>LP001006</td>\n",
              "      <td>Male</td>\n",
              "      <td>Yes</td>\n",
              "      <td>0</td>\n",
              "      <td>Not Graduate</td>\n",
              "      <td>No</td>\n",
              "      <td>2583</td>\n",
              "      <td>2358.0</td>\n",
              "      <td>120.0</td>\n",
              "      <td>360.0</td>\n",
              "      <td>1.0</td>\n",
              "      <td>Urban</td>\n",
              "      <td>Y</td>\n",
              "    </tr>\n",
              "    <tr>\n",
              "      <th>4</th>\n",
              "      <td>LP001008</td>\n",
              "      <td>Male</td>\n",
              "      <td>No</td>\n",
              "      <td>0</td>\n",
              "      <td>Graduate</td>\n",
              "      <td>No</td>\n",
              "      <td>6000</td>\n",
              "      <td>0.0</td>\n",
              "      <td>141.0</td>\n",
              "      <td>360.0</td>\n",
              "      <td>1.0</td>\n",
              "      <td>Urban</td>\n",
              "      <td>Y</td>\n",
              "    </tr>\n",
              "  </tbody>\n",
              "</table>\n",
              "</div>"
            ],
            "text/plain": [
              "    Loan_ID Gender Married  ... Credit_History Property_Area Loan_Status\n",
              "0  LP001002   Male      No  ...            1.0         Urban           Y\n",
              "1  LP001003   Male     Yes  ...            1.0         Rural           N\n",
              "2  LP001005   Male     Yes  ...            1.0         Urban           Y\n",
              "3  LP001006   Male     Yes  ...            1.0         Urban           Y\n",
              "4  LP001008   Male      No  ...            1.0         Urban           Y\n",
              "\n",
              "[5 rows x 13 columns]"
            ]
          },
          "metadata": {
            "tags": []
          },
          "execution_count": 3
        }
      ]
    },
    {
      "cell_type": "markdown",
      "metadata": {
        "id": "buU0B3VsqJ51"
      },
      "source": [
        "By using describe we can notice that if we compare median and the maximum value of ApplicantIncome and CoapplicantIncome we can see that there might be an outlier in the data.\n",
        "We can also notice that the count of LoanAmount, Loan_Amount_Term and Credit_History is lower than the other two attributes suggesting there will be some missing values.\n",
        "By looking at the mean arge portion of the data includes applicants with Credit_History (since it's a binary attribute)."
      ]
    },
    {
      "cell_type": "code",
      "metadata": {
        "id": "IpWkiVszXjMI",
        "colab": {
          "base_uri": "https://localhost:8080/"
        },
        "outputId": "d1a46658-9164-4c8c-e630-fdb8a490ca24"
      },
      "source": [
        "train.describe()"
      ],
      "execution_count": null,
      "outputs": [
        {
          "output_type": "execute_result",
          "data": {
            "text/html": [
              "<div>\n",
              "<style scoped>\n",
              "    .dataframe tbody tr th:only-of-type {\n",
              "        vertical-align: middle;\n",
              "    }\n",
              "\n",
              "    .dataframe tbody tr th {\n",
              "        vertical-align: top;\n",
              "    }\n",
              "\n",
              "    .dataframe thead th {\n",
              "        text-align: right;\n",
              "    }\n",
              "</style>\n",
              "<table border=\"1\" class=\"dataframe\">\n",
              "  <thead>\n",
              "    <tr style=\"text-align: right;\">\n",
              "      <th></th>\n",
              "      <th>ApplicantIncome</th>\n",
              "      <th>CoapplicantIncome</th>\n",
              "      <th>LoanAmount</th>\n",
              "      <th>Loan_Amount_Term</th>\n",
              "      <th>Credit_History</th>\n",
              "    </tr>\n",
              "  </thead>\n",
              "  <tbody>\n",
              "    <tr>\n",
              "      <th>count</th>\n",
              "      <td>614.000000</td>\n",
              "      <td>614.000000</td>\n",
              "      <td>592.000000</td>\n",
              "      <td>600.00000</td>\n",
              "      <td>564.000000</td>\n",
              "    </tr>\n",
              "    <tr>\n",
              "      <th>mean</th>\n",
              "      <td>5403.459283</td>\n",
              "      <td>1621.245798</td>\n",
              "      <td>146.412162</td>\n",
              "      <td>342.00000</td>\n",
              "      <td>0.842199</td>\n",
              "    </tr>\n",
              "    <tr>\n",
              "      <th>std</th>\n",
              "      <td>6109.041673</td>\n",
              "      <td>2926.248369</td>\n",
              "      <td>85.587325</td>\n",
              "      <td>65.12041</td>\n",
              "      <td>0.364878</td>\n",
              "    </tr>\n",
              "    <tr>\n",
              "      <th>min</th>\n",
              "      <td>150.000000</td>\n",
              "      <td>0.000000</td>\n",
              "      <td>9.000000</td>\n",
              "      <td>12.00000</td>\n",
              "      <td>0.000000</td>\n",
              "    </tr>\n",
              "    <tr>\n",
              "      <th>25%</th>\n",
              "      <td>2877.500000</td>\n",
              "      <td>0.000000</td>\n",
              "      <td>100.000000</td>\n",
              "      <td>360.00000</td>\n",
              "      <td>1.000000</td>\n",
              "    </tr>\n",
              "    <tr>\n",
              "      <th>50%</th>\n",
              "      <td>3812.500000</td>\n",
              "      <td>1188.500000</td>\n",
              "      <td>128.000000</td>\n",
              "      <td>360.00000</td>\n",
              "      <td>1.000000</td>\n",
              "    </tr>\n",
              "    <tr>\n",
              "      <th>75%</th>\n",
              "      <td>5795.000000</td>\n",
              "      <td>2297.250000</td>\n",
              "      <td>168.000000</td>\n",
              "      <td>360.00000</td>\n",
              "      <td>1.000000</td>\n",
              "    </tr>\n",
              "    <tr>\n",
              "      <th>max</th>\n",
              "      <td>81000.000000</td>\n",
              "      <td>41667.000000</td>\n",
              "      <td>700.000000</td>\n",
              "      <td>480.00000</td>\n",
              "      <td>1.000000</td>\n",
              "    </tr>\n",
              "  </tbody>\n",
              "</table>\n",
              "</div>"
            ],
            "text/plain": [
              "       ApplicantIncome  CoapplicantIncome  ...  Loan_Amount_Term  Credit_History\n",
              "count       614.000000         614.000000  ...         600.00000      564.000000\n",
              "mean       5403.459283        1621.245798  ...         342.00000        0.842199\n",
              "std        6109.041673        2926.248369  ...          65.12041        0.364878\n",
              "min         150.000000           0.000000  ...          12.00000        0.000000\n",
              "25%        2877.500000           0.000000  ...         360.00000        1.000000\n",
              "50%        3812.500000        1188.500000  ...         360.00000        1.000000\n",
              "75%        5795.000000        2297.250000  ...         360.00000        1.000000\n",
              "max       81000.000000       41667.000000  ...         480.00000        1.000000\n",
              "\n",
              "[8 rows x 5 columns]"
            ]
          },
          "metadata": {
            "tags": []
          },
          "execution_count": 4
        }
      ]
    },
    {
      "cell_type": "markdown",
      "metadata": {
        "id": "qfRfZVPHjWw7"
      },
      "source": [
        "Looking at dataset info we can see that there are a lot of object type attributes which we'll have to deal with later."
      ]
    },
    {
      "cell_type": "code",
      "metadata": {
        "id": "dAXLpN_iXjon",
        "colab": {
          "base_uri": "https://localhost:8080/"
        },
        "outputId": "5d77202d-d032-439f-ca86-52e6c5325e83"
      },
      "source": [
        "train.info()"
      ],
      "execution_count": null,
      "outputs": [
        {
          "output_type": "stream",
          "text": [
            "<class 'pandas.core.frame.DataFrame'>\n",
            "RangeIndex: 614 entries, 0 to 613\n",
            "Data columns (total 13 columns):\n",
            " #   Column             Non-Null Count  Dtype  \n",
            "---  ------             --------------  -----  \n",
            " 0   Loan_ID            614 non-null    object \n",
            " 1   Gender             601 non-null    object \n",
            " 2   Married            611 non-null    object \n",
            " 3   Dependents         599 non-null    object \n",
            " 4   Education          614 non-null    object \n",
            " 5   Self_Employed      582 non-null    object \n",
            " 6   ApplicantIncome    614 non-null    int64  \n",
            " 7   CoapplicantIncome  614 non-null    float64\n",
            " 8   LoanAmount         592 non-null    float64\n",
            " 9   Loan_Amount_Term   600 non-null    float64\n",
            " 10  Credit_History     564 non-null    float64\n",
            " 11  Property_Area      614 non-null    object \n",
            " 12  Loan_Status        614 non-null    object \n",
            "dtypes: float64(4), int64(1), object(8)\n",
            "memory usage: 62.5+ KB\n"
          ],
          "name": "stdout"
        }
      ]
    },
    {
      "cell_type": "markdown",
      "metadata": {
        "id": "ZkXiIPeTjvqP"
      },
      "source": [
        "Now we'll look at the distribution of the data.\n",
        "This representation shows the information we've seen in written form before and confirms our presumptions, for example that ApplicantIncome and CoapplicantIncome data features some outliers or that the majority of applicants have Credit_History."
      ]
    },
    {
      "cell_type": "code",
      "metadata": {
        "colab": {
          "base_uri": "https://localhost:8080/"
        },
        "id": "PQEr_P0qilav",
        "outputId": "b3ef15e3-36b2-4c1b-f2b8-31141bf1ffee"
      },
      "source": [
        "list(set(train.dtypes.tolist()))\n",
        "num_features = train.select_dtypes(include = ['float64', 'int64'])\n",
        "num_features.hist(figsize=(16, 20), bins=50, xlabelsize=8, ylabelsize=8);"
      ],
      "execution_count": null,
      "outputs": [
        {
          "output_type": "display_data",
          "data": {
            "image/png": "[encoded data removed]",
            "text/plain": [
              "<Figure size 1152x1440 with 6 Axes>"
            ]
          },
          "metadata": {
            "tags": [],
            "needs_background": "light"
          }
        }
      ]
    },
    {
      "cell_type": "markdown",
      "metadata": {
        "id": "akUuyeEQtLrO"
      },
      "source": [
        "Now we plot pairwise relationships in a dataset using pairplot.\n",
        "\n",
        "We can clearly identify some relationships with LoanAmount in the first set of diagrams. A lot of datapoints are located on x = 0, which may indicate the absence of such feature."
      ]
    },
    {
      "cell_type": "code",
      "metadata": {
        "colab": {
          "base_uri": "https://localhost:8080/"
        },
        "id": "0jBv5VC9jSpN",
        "outputId": "ce57e415-5e93-4ebb-e848-6c9288e65375"
      },
      "source": [
        "for i in range(0, len(num_features.columns), 5):\n",
        "    sns.pairplot(data=num_features,\n",
        "                x_vars=num_features.columns[i:i+5],\n",
        "                y_vars=['LoanAmount'])"
      ],
      "execution_count": null,
      "outputs": [
        {
          "output_type": "display_data",
          "data": {
            "image/png": "[encoded data removed]",
            "text/plain": [
              "<Figure size 900x180 with 6 Axes>"
            ]
          },
          "metadata": {
            "tags": [],
            "needs_background": "light"
          }
        }
      ]
    },
    {
      "cell_type": "markdown",
      "metadata": {
        "id": "WLqIRIFXgwur"
      },
      "source": [
        "Now we want to look at numerical attributes relationships with Loan_Status, since that's our target value. We use it as a hue in this case.\n",
        "\n",
        "We can for example see that high ApplicantIncome in relationship with lower CoapplicantIncome are rewarded more often with allowance of loan and that high CoapplicantIncome data doesn't neccessarily mean that they will be allowed to get a loan, which can be a surprising discovery.\n",
        "\n",
        "We can also notice that almost all applicants and coapplicants have less than average income yet the loan allowance distribution is quite even."
      ]
    },
    {
      "cell_type": "code",
      "metadata": {
        "colab": {
          "base_uri": "https://localhost:8080/"
        },
        "id": "gin8I5CqiYE8",
        "outputId": "1f0cb726-b6b2-45a2-a0e0-864190501662"
      },
      "source": [
        "sns.pairplot(train, vars=[\"ApplicantIncome\", \"CoapplicantIncome\", \"LoanAmount\"], hue=\"Loan_Status\")"
      ],
      "execution_count": null,
      "outputs": [
        {
          "output_type": "execute_result",
          "data": {
            "text/plain": [
              "<seaborn.axisgrid.PairGrid at 0x7f2e2041e950>"
            ]
          },
          "metadata": {
            "tags": []
          },
          "execution_count": 8
        },
        {
          "output_type": "display_data",
          "data": {
            "image/png": "[encoded data removed]",
            "text/plain": [
              "<Figure size 608.625x540 with 12 Axes>"
            ]
          },
          "metadata": {
            "tags": [],
            "needs_background": "light"
          }
        }
      ]
    },
    {
      "cell_type": "markdown",
      "metadata": {
        "id": "8ywD8_9TyGQ-"
      },
      "source": [
        "We turn all object types to category types so it's easier and more efficient to work with them."
      ]
    },
    {
      "cell_type": "code",
      "metadata": {
        "id": "pRNlkgi_cFY4"
      },
      "source": [
        "for col in train.select_dtypes(include=\"object\"):\n",
        "  train[col] = train[col].astype(\"category\")"
      ],
      "execution_count": null,
      "outputs": []
    },
    {
      "cell_type": "markdown",
      "metadata": {
        "id": "ehw0UHqAyFkW"
      },
      "source": [
        "We want to look at distribution of categorical data now. We can see that majority of applicants are males, married, educated, employees and have 0 dependents. Distribution of Property_Area seems pretty even."
      ]
    },
    {
      "cell_type": "code",
      "metadata": {
        "colab": {
          "base_uri": "https://localhost:8080/"
        },
        "id": "yfHKHPSblItF",
        "outputId": "5c580f4a-27b2-4c92-a04b-1d29b1344a3f"
      },
      "source": [
        "cat_features = train.select_dtypes(include = ['category']).drop(columns=[\"Loan_ID\"])\n",
        "\n",
        "fig, axes = plt.subplots(round(len(cat_features.columns) / 3), 3, figsize=(12, 20))\n",
        "\n",
        "for i, ax in enumerate(fig.axes):\n",
        "    if i < len(cat_features.columns):\n",
        "        ax.set_xticklabels(ax.xaxis.get_majorticklabels(), rotation=45)\n",
        "        sns.countplot(x=cat_features.columns[i], alpha=0.7, data=cat_features, ax=ax)\n",
        "\n",
        "fig.tight_layout()"
      ],
      "execution_count": null,
      "outputs": [
        {
          "output_type": "display_data",
          "data": {
            "image/png": "[encoded data removed]",
            "text/plain": [
              "<Figure size 864x1440 with 6 Axes>"
            ]
          },
          "metadata": {
            "tags": [],
            "needs_background": "light"
          }
        }
      ]
    },
    {
      "cell_type": "markdown",
      "metadata": {
        "id": "pdmc4Yh6y1Sn"
      },
      "source": [
        "Let's look at relationships of categorical attributes with Loan_Status. Not surprising discovery is that educated  people have higher chance of getting a loan. It can be surprising that applicants with semiurban Property_Area have more luck getting a loan. We can also see that there's a slight disproportion between married and unmarried applicants."
      ]
    },
    {
      "cell_type": "code",
      "metadata": {
        "colab": {
          "base_uri": "https://localhost:8080/"
        },
        "id": "-9TOhBqRptGp",
        "outputId": "d300ea7c-184a-4b2d-82d0-69dbddf5bf07"
      },
      "source": [
        "cat_feat_list = [\"Education\", \"Self_Employed\", \"Property_Area\", \"Dependents\", \"Married\", \"Gender\"]\n",
        "\n",
        "fig, ax = plt.subplots(3, 2, figsize=(12, 20))\n",
        "\n",
        "for i, ax in enumerate(fig.axes):\n",
        "  sns.countplot(x=cat_feat_list[i], hue=\"Loan_Status\", data=train, ax=ax)\n",
        "\n",
        "fig.show()"
      ],
      "execution_count": null,
      "outputs": [
        {
          "output_type": "display_data",
          "data": {
            "image/png": "[encoded data removed]",
            "text/plain": [
              "<Figure size 864x1440 with 6 Axes>"
            ]
          },
          "metadata": {
            "tags": [],
            "needs_background": "light"
          }
        }
      ]
    },
    {
      "cell_type": "markdown",
      "metadata": {
        "id": "XLVrW48Cfael"
      },
      "source": [
        "# Preprocessing"
      ]
    },
    {
      "cell_type": "markdown",
      "metadata": {
        "id": "x7Dxu3l9z5ji"
      },
      "source": [
        "In preprocessing part we will drop redundant attributes, take care of missing values and divide the train dataset to X and y data (our target y value will be Loan_Status)."
      ]
    },
    {
      "cell_type": "code",
      "metadata": {
        "id": "Fu4qSPEpEN4y"
      },
      "source": [
        "from sklearn.impute import SimpleImputer\n",
        "from sklearn.preprocessing import StandardScaler, OneHotEncoder\n",
        "from sklearn.pipeline import Pipeline\n",
        "from sklearn.compose import ColumnTransformer"
      ],
      "execution_count": null,
      "outputs": []
    },
    {
      "cell_type": "markdown",
      "metadata": {
        "id": "CSnj5Lfo0e6x"
      },
      "source": [
        "We drop Loan_ID, since it has no informational value in this case."
      ]
    },
    {
      "cell_type": "code",
      "metadata": {
        "id": "EAi6lMvMzSPW"
      },
      "source": [
        "train = train.drop(columns=[\"Loan_ID\"])\n",
        "test = test.drop(columns=[\"Loan_ID\"])"
      ],
      "execution_count": null,
      "outputs": []
    },
    {
      "cell_type": "markdown",
      "metadata": {
        "id": "pVilwLfq0lk0"
      },
      "source": [
        "By looking at number of missing values we can see there's not a lot to take care of, maybe around 12% of the training data."
      ]
    },
    {
      "cell_type": "code",
      "metadata": {
        "colab": {
          "base_uri": "https://localhost:8080/"
        },
        "id": "82llOzhW0ddI",
        "outputId": "03d19c53-33ab-468c-cdc1-d1e687c83c9c"
      },
      "source": [
        "print(train.isna().sum())"
      ],
      "execution_count": null,
      "outputs": [
        {
          "output_type": "stream",
          "text": [
            "Gender               13\n",
            "Married               3\n",
            "Dependents           15\n",
            "Education             0\n",
            "Self_Employed        32\n",
            "ApplicantIncome       0\n",
            "CoapplicantIncome     0\n",
            "LoanAmount           22\n",
            "Loan_Amount_Term     14\n",
            "Credit_History       50\n",
            "Property_Area         0\n",
            "Loan_Status           0\n",
            "dtype: int64\n"
          ],
          "name": "stdout"
        }
      ]
    },
    {
      "cell_type": "markdown",
      "metadata": {
        "id": "w9qHcwXA0k7d"
      },
      "source": [
        "We replace binary values of Loan_Status \"Y\" and \"N\" by numbers so it's easier to work with."
      ]
    },
    {
      "cell_type": "code",
      "metadata": {
        "id": "IFqo7C3PSRcs"
      },
      "source": [
        "cleanup_nums = {\"Loan_Status\": {\"Y\": 1, \"N\": 0}}\n",
        "train = train.replace(cleanup_nums)"
      ],
      "execution_count": null,
      "outputs": []
    },
    {
      "cell_type": "markdown",
      "metadata": {
        "id": "uRO4KJWX1IB2"
      },
      "source": [
        "Main division into X and y data."
      ]
    },
    {
      "cell_type": "code",
      "metadata": {
        "id": "QKvuw2BMEGSL"
      },
      "source": [
        "X = train.drop(columns=[\"Loan_Status\"])\n",
        "y = train[\"Loan_Status\"]"
      ],
      "execution_count": null,
      "outputs": []
    },
    {
      "cell_type": "markdown",
      "metadata": {
        "id": "wRVTZ8Bz1L2H"
      },
      "source": [
        "Here we impute the missing values with SimpleImputer using the most_frequent strategy on categorical data and mean strategy on numerical data. Afterwards we encode the categorical data using OneHotEncoder and scale the numerical values with StandardScaler. We use ColumnTransformer to transform the whole portion of X data."
      ]
    },
    {
      "cell_type": "code",
      "metadata": {
        "id": "fLGteJt6IAqw"
      },
      "source": [
        "num_features = X.select_dtypes(\"number\").columns\n",
        "cat_features = X.select_dtypes(include = ['category']).columns\n",
        "\n",
        "cat_pipeline = Pipeline(\n",
        "    [(\"imputer\", SimpleImputer(strategy=\"most_frequent\")), (\"onehot\", OneHotEncoder())]\n",
        ")\n",
        "\n",
        "num_pipeline = Pipeline(\n",
        "    [(\"imputer\", SimpleImputer(strategy=\"mean\")), (\"std_scaler\", StandardScaler())]\n",
        ")\n",
        "\n",
        "\n",
        "col_transformer = ColumnTransformer(\n",
        "    transformers=[\n",
        "        ('num', num_pipeline, num_features),\n",
        "        ('cat', cat_pipeline, cat_features)\n",
        "    ]\n",
        ")\n",
        "\n",
        "X_edited = col_transformer.fit_transform(X)\n",
        "test = col_transformer.fit_transform(test)"
      ],
      "execution_count": null,
      "outputs": []
    },
    {
      "cell_type": "markdown",
      "metadata": {
        "id": "hx1Czdvr16lS"
      },
      "source": [
        "This part of the code is just to see that there are no missing values left. The dummies are implemented with names of columns so we can notice how data was decomposed (mainly the categorical values) after transforming it."
      ]
    },
    {
      "cell_type": "code",
      "metadata": {
        "colab": {
          "base_uri": "https://localhost:8080/"
        },
        "id": "APwA4uMTEhTL",
        "outputId": "66756862-8f78-467c-c157-eeb76d5b252f"
      },
      "source": [
        "cat_feat_list = [\"Education\", \"Self_Employed\", \"Property_Area\", \"Dependents\", \"Married\", \"Gender\"]\n",
        "\n",
        "X_cat_edited = X\n",
        "for cat_feature in cat_feat_list:\n",
        "    dataset_edit = pd.get_dummies(X[cat_feature], prefix=cat_feature, prefix_sep=\"_\")\n",
        "    X_cat_edited = pd.concat([X_cat_edited, dataset_edit], axis=1)\n",
        "    X_cat_edited = X_cat_edited.drop(columns=[cat_feature], axis=1)\n",
        "\n",
        "X_as_dataset = pd.DataFrame(data=X_edited, columns=X_cat_edited.columns)\n",
        "print(X_as_dataset.isna().sum())"
      ],
      "execution_count": null,
      "outputs": [
        {
          "output_type": "stream",
          "text": [
            "ApplicantIncome            0\n",
            "CoapplicantIncome          0\n",
            "LoanAmount                 0\n",
            "Loan_Amount_Term           0\n",
            "Credit_History             0\n",
            "Education_Graduate         0\n",
            "Education_Not Graduate     0\n",
            "Self_Employed_No           0\n",
            "Self_Employed_Yes          0\n",
            "Property_Area_Rural        0\n",
            "Property_Area_Semiurban    0\n",
            "Property_Area_Urban        0\n",
            "Dependents_0               0\n",
            "Dependents_1               0\n",
            "Dependents_2               0\n",
            "Dependents_3+              0\n",
            "Married_No                 0\n",
            "Married_Yes                0\n",
            "Gender_Female              0\n",
            "Gender_Male                0\n",
            "dtype: int64\n"
          ],
          "name": "stdout"
        }
      ]
    },
    {
      "cell_type": "code",
      "metadata": {
        "colab": {
          "base_uri": "https://localhost:8080/"
        },
        "id": "CM4ZWNXZHJI7",
        "outputId": "99304380-7260-4d32-a711-af84014ac9ef"
      },
      "source": [
        "X_as_dataset"
      ],
      "execution_count": null,
      "outputs": [
        {
          "output_type": "execute_result",
          "data": {
            "text/html": [
              "<div>\n",
              "<style scoped>\n",
              "    .dataframe tbody tr th:only-of-type {\n",
              "        vertical-align: middle;\n",
              "    }\n",
              "\n",
              "    .dataframe tbody tr th {\n",
              "        vertical-align: top;\n",
              "    }\n",
              "\n",
              "    .dataframe thead th {\n",
              "        text-align: right;\n",
              "    }\n",
              "</style>\n",
              "<table border=\"1\" class=\"dataframe\">\n",
              "  <thead>\n",
              "    <tr style=\"text-align: right;\">\n",
              "      <th></th>\n",
              "      <th>ApplicantIncome</th>\n",
              "      <th>CoapplicantIncome</th>\n",
              "      <th>LoanAmount</th>\n",
              "      <th>Loan_Amount_Term</th>\n",
              "      <th>Credit_History</th>\n",
              "      <th>Education_Graduate</th>\n",
              "      <th>Education_Not Graduate</th>\n",
              "      <th>Self_Employed_No</th>\n",
              "      <th>Self_Employed_Yes</th>\n",
              "      <th>Property_Area_Rural</th>\n",
              "      <th>Property_Area_Semiurban</th>\n",
              "      <th>Property_Area_Urban</th>\n",
              "      <th>Dependents_0</th>\n",
              "      <th>Dependents_1</th>\n",
              "      <th>Dependents_2</th>\n",
              "      <th>Dependents_3+</th>\n",
              "      <th>Married_No</th>\n",
              "      <th>Married_Yes</th>\n",
              "      <th>Gender_Female</th>\n",
              "      <th>Gender_Male</th>\n",
              "    </tr>\n",
              "  </thead>\n",
              "  <tbody>\n",
              "    <tr>\n",
              "      <th>0</th>\n",
              "      <td>0.072991</td>\n",
              "      <td>-0.554487</td>\n",
              "      <td>0.000000</td>\n",
              "      <td>0.279851</td>\n",
              "      <td>0.451640</td>\n",
              "      <td>0.0</td>\n",
              "      <td>1.0</td>\n",
              "      <td>1.0</td>\n",
              "      <td>0.0</td>\n",
              "      <td>1.0</td>\n",
              "      <td>0.0</td>\n",
              "      <td>0.0</td>\n",
              "      <td>0.0</td>\n",
              "      <td>1.0</td>\n",
              "      <td>0.0</td>\n",
              "      <td>1.0</td>\n",
              "      <td>0.0</td>\n",
              "      <td>0.0</td>\n",
              "      <td>0.0</td>\n",
              "      <td>1.0</td>\n",
              "    </tr>\n",
              "    <tr>\n",
              "      <th>1</th>\n",
              "      <td>-0.134412</td>\n",
              "      <td>-0.038732</td>\n",
              "      <td>-0.219273</td>\n",
              "      <td>0.279851</td>\n",
              "      <td>0.451640</td>\n",
              "      <td>0.0</td>\n",
              "      <td>1.0</td>\n",
              "      <td>0.0</td>\n",
              "      <td>1.0</td>\n",
              "      <td>0.0</td>\n",
              "      <td>1.0</td>\n",
              "      <td>0.0</td>\n",
              "      <td>0.0</td>\n",
              "      <td>1.0</td>\n",
              "      <td>0.0</td>\n",
              "      <td>1.0</td>\n",
              "      <td>0.0</td>\n",
              "      <td>1.0</td>\n",
              "      <td>0.0</td>\n",
              "      <td>0.0</td>\n",
              "    </tr>\n",
              "    <tr>\n",
              "      <th>2</th>\n",
              "      <td>-0.393747</td>\n",
              "      <td>-0.554487</td>\n",
              "      <td>-0.957641</td>\n",
              "      <td>0.279851</td>\n",
              "      <td>0.451640</td>\n",
              "      <td>0.0</td>\n",
              "      <td>1.0</td>\n",
              "      <td>0.0</td>\n",
              "      <td>1.0</td>\n",
              "      <td>1.0</td>\n",
              "      <td>0.0</td>\n",
              "      <td>0.0</td>\n",
              "      <td>0.0</td>\n",
              "      <td>1.0</td>\n",
              "      <td>0.0</td>\n",
              "      <td>0.0</td>\n",
              "      <td>1.0</td>\n",
              "      <td>0.0</td>\n",
              "      <td>0.0</td>\n",
              "      <td>1.0</td>\n",
              "    </tr>\n",
              "    <tr>\n",
              "      <th>3</th>\n",
              "      <td>-0.462062</td>\n",
              "      <td>0.251980</td>\n",
              "      <td>-0.314547</td>\n",
              "      <td>0.279851</td>\n",
              "      <td>0.451640</td>\n",
              "      <td>0.0</td>\n",
              "      <td>1.0</td>\n",
              "      <td>0.0</td>\n",
              "      <td>1.0</td>\n",
              "      <td>1.0</td>\n",
              "      <td>0.0</td>\n",
              "      <td>0.0</td>\n",
              "      <td>0.0</td>\n",
              "      <td>0.0</td>\n",
              "      <td>1.0</td>\n",
              "      <td>1.0</td>\n",
              "      <td>0.0</td>\n",
              "      <td>0.0</td>\n",
              "      <td>0.0</td>\n",
              "      <td>1.0</td>\n",
              "    </tr>\n",
              "    <tr>\n",
              "      <th>4</th>\n",
              "      <td>0.097728</td>\n",
              "      <td>-0.554487</td>\n",
              "      <td>-0.064454</td>\n",
              "      <td>0.279851</td>\n",
              "      <td>0.451640</td>\n",
              "      <td>0.0</td>\n",
              "      <td>1.0</td>\n",
              "      <td>1.0</td>\n",
              "      <td>0.0</td>\n",
              "      <td>1.0</td>\n",
              "      <td>0.0</td>\n",
              "      <td>0.0</td>\n",
              "      <td>0.0</td>\n",
              "      <td>1.0</td>\n",
              "      <td>0.0</td>\n",
              "      <td>1.0</td>\n",
              "      <td>0.0</td>\n",
              "      <td>0.0</td>\n",
              "      <td>0.0</td>\n",
              "      <td>1.0</td>\n",
              "    </tr>\n",
              "    <tr>\n",
              "      <th>...</th>\n",
              "      <td>...</td>\n",
              "      <td>...</td>\n",
              "      <td>...</td>\n",
              "      <td>...</td>\n",
              "      <td>...</td>\n",
              "      <td>...</td>\n",
              "      <td>...</td>\n",
              "      <td>...</td>\n",
              "      <td>...</td>\n",
              "      <td>...</td>\n",
              "      <td>...</td>\n",
              "      <td>...</td>\n",
              "      <td>...</td>\n",
              "      <td>...</td>\n",
              "      <td>...</td>\n",
              "      <td>...</td>\n",
              "      <td>...</td>\n",
              "      <td>...</td>\n",
              "      <td>...</td>\n",
              "      <td>...</td>\n",
              "    </tr>\n",
              "    <tr>\n",
              "      <th>609</th>\n",
              "      <td>-0.410130</td>\n",
              "      <td>-0.554487</td>\n",
              "      <td>-0.898095</td>\n",
              "      <td>0.279851</td>\n",
              "      <td>0.451640</td>\n",
              "      <td>1.0</td>\n",
              "      <td>0.0</td>\n",
              "      <td>1.0</td>\n",
              "      <td>0.0</td>\n",
              "      <td>1.0</td>\n",
              "      <td>0.0</td>\n",
              "      <td>0.0</td>\n",
              "      <td>0.0</td>\n",
              "      <td>1.0</td>\n",
              "      <td>0.0</td>\n",
              "      <td>1.0</td>\n",
              "      <td>0.0</td>\n",
              "      <td>1.0</td>\n",
              "      <td>0.0</td>\n",
              "      <td>0.0</td>\n",
              "    </tr>\n",
              "    <tr>\n",
              "      <th>610</th>\n",
              "      <td>-0.212557</td>\n",
              "      <td>-0.554487</td>\n",
              "      <td>-1.267279</td>\n",
              "      <td>-2.518655</td>\n",
              "      <td>0.451640</td>\n",
              "      <td>0.0</td>\n",
              "      <td>1.0</td>\n",
              "      <td>0.0</td>\n",
              "      <td>1.0</td>\n",
              "      <td>0.0</td>\n",
              "      <td>0.0</td>\n",
              "      <td>0.0</td>\n",
              "      <td>1.0</td>\n",
              "      <td>1.0</td>\n",
              "      <td>0.0</td>\n",
              "      <td>1.0</td>\n",
              "      <td>0.0</td>\n",
              "      <td>1.0</td>\n",
              "      <td>0.0</td>\n",
              "      <td>0.0</td>\n",
              "    </tr>\n",
              "    <tr>\n",
              "      <th>611</th>\n",
              "      <td>0.437174</td>\n",
              "      <td>-0.472404</td>\n",
              "      <td>1.269371</td>\n",
              "      <td>0.279851</td>\n",
              "      <td>0.451640</td>\n",
              "      <td>0.0</td>\n",
              "      <td>1.0</td>\n",
              "      <td>0.0</td>\n",
              "      <td>1.0</td>\n",
              "      <td>0.0</td>\n",
              "      <td>1.0</td>\n",
              "      <td>0.0</td>\n",
              "      <td>0.0</td>\n",
              "      <td>1.0</td>\n",
              "      <td>0.0</td>\n",
              "      <td>1.0</td>\n",
              "      <td>0.0</td>\n",
              "      <td>0.0</td>\n",
              "      <td>0.0</td>\n",
              "      <td>1.0</td>\n",
              "    </tr>\n",
              "    <tr>\n",
              "      <th>612</th>\n",
              "      <td>0.357064</td>\n",
              "      <td>-0.554487</td>\n",
              "      <td>0.483367</td>\n",
              "      <td>0.279851</td>\n",
              "      <td>0.451640</td>\n",
              "      <td>0.0</td>\n",
              "      <td>1.0</td>\n",
              "      <td>0.0</td>\n",
              "      <td>1.0</td>\n",
              "      <td>0.0</td>\n",
              "      <td>0.0</td>\n",
              "      <td>1.0</td>\n",
              "      <td>0.0</td>\n",
              "      <td>1.0</td>\n",
              "      <td>0.0</td>\n",
              "      <td>1.0</td>\n",
              "      <td>0.0</td>\n",
              "      <td>0.0</td>\n",
              "      <td>0.0</td>\n",
              "      <td>1.0</td>\n",
              "    </tr>\n",
              "    <tr>\n",
              "      <th>613</th>\n",
              "      <td>-0.134412</td>\n",
              "      <td>-0.554487</td>\n",
              "      <td>-0.159728</td>\n",
              "      <td>0.279851</td>\n",
              "      <td>-2.410441</td>\n",
              "      <td>1.0</td>\n",
              "      <td>0.0</td>\n",
              "      <td>1.0</td>\n",
              "      <td>0.0</td>\n",
              "      <td>1.0</td>\n",
              "      <td>0.0</td>\n",
              "      <td>0.0</td>\n",
              "      <td>0.0</td>\n",
              "      <td>1.0</td>\n",
              "      <td>0.0</td>\n",
              "      <td>0.0</td>\n",
              "      <td>1.0</td>\n",
              "      <td>0.0</td>\n",
              "      <td>1.0</td>\n",
              "      <td>0.0</td>\n",
              "    </tr>\n",
              "  </tbody>\n",
              "</table>\n",
              "<p>614 rows × 20 columns</p>\n",
              "</div>"
            ],
            "text/plain": [
              "     ApplicantIncome  CoapplicantIncome  ...  Gender_Female  Gender_Male\n",
              "0           0.072991          -0.554487  ...            0.0          1.0\n",
              "1          -0.134412          -0.038732  ...            0.0          0.0\n",
              "2          -0.393747          -0.554487  ...            0.0          1.0\n",
              "3          -0.462062           0.251980  ...            0.0          1.0\n",
              "4           0.097728          -0.554487  ...            0.0          1.0\n",
              "..               ...                ...  ...            ...          ...\n",
              "609        -0.410130          -0.554487  ...            0.0          0.0\n",
              "610        -0.212557          -0.554487  ...            0.0          0.0\n",
              "611         0.437174          -0.472404  ...            0.0          1.0\n",
              "612         0.357064          -0.554487  ...            0.0          1.0\n",
              "613        -0.134412          -0.554487  ...            1.0          0.0\n",
              "\n",
              "[614 rows x 20 columns]"
            ]
          },
          "metadata": {
            "tags": []
          },
          "execution_count": 19
        }
      ]
    },
    {
      "cell_type": "markdown",
      "metadata": {
        "id": "7UED2B6vfi9c"
      },
      "source": [
        "# Models"
      ]
    },
    {
      "cell_type": "markdown",
      "metadata": {
        "id": "wXw3jKtEbVA0"
      },
      "source": [
        "5 different models were chosen:\n",
        "*   Logistic Regression (as baseline model)\n",
        "*   Decision Tree Classification\n",
        "*   K-Nearest Neighbours Classification\n",
        "*   Random Forest Classification\n",
        "*   C-Support Vector Classification\n",
        "\n",
        "\n",
        "We will fit and predict the models on our data and then evaluate it using following metrics:\n",
        "*   Classification accuracy (percentage of correct predictions, higher value = better classifier)\n",
        "*   Weighted average F1-score (harmonic mean of precision and recall which gives a better measure of the incorrectly classified cases than the accuracy metric, higher value = better classifier)\n",
        "*   Precision recall curve (shows the tradeoff between precision and recall for different threshold)\n",
        "*   Confusion matrix (describes the performance of a classification model)\n",
        "    *   True Positives (11): we correctly predicted that they will be allowed to get loan\n",
        "    *   True Negatives (00): we correctly predicted that they won't be allowed to get loan\n",
        "    *   False Positives (01): we incorrectly predicted that they will be allowed to get loan\n",
        "    *   False Negatives (10): we incorrectly predicted that they won't be allowed to get loan\n",
        "*   Receiver operating characteristic curve (graphical plot which illustrates the performance of a binary classifier system as its discrimination threshold is varied)\n",
        "*   ROC AUC (percentage of the ROC plot that is underneath the curve, higher value = better classifier)\n",
        "\n",
        "\n",
        "We'll also try to find the best hyper parameters for selected models by using GridSearchCV and evaluate the best classifier F1-score."
      ]
    },
    {
      "cell_type": "code",
      "metadata": {
        "id": "QsAVXdoo4eSI"
      },
      "source": [
        "from sklearn.preprocessing import StandardScaler\n",
        "from sklearn.pipeline import make_pipeline\n",
        "\n",
        "from sklearn.model_selection import train_test_split\n",
        "\n",
        "from sklearn.metrics import f1_score, accuracy_score, roc_auc_score\n",
        "from sklearn.metrics import plot_confusion_matrix, plot_roc_curve, plot_precision_recall_curve\n",
        "from sklearn.model_selection import GridSearchCV\n",
        "\n",
        "from sklearn.linear_model import LogisticRegression\n",
        "from sklearn.tree import DecisionTreeClassifier\n",
        "from sklearn.neighbors import KNeighborsClassifier\n",
        "from sklearn.ensemble import RandomForestClassifier\n",
        "from sklearn.svm import SVC"
      ],
      "execution_count": null,
      "outputs": []
    },
    {
      "cell_type": "code",
      "metadata": {
        "id": "Tz2G2eJN0Ks-"
      },
      "source": [
        "def evaluate_model(model, X, y, grid_params, grid_search = True):\n",
        "  x_train, x_test, y_train, y_test = train_test_split(X, y, test_size=0.25, random_state=42)\n",
        "  model_pipe = make_pipeline(StandardScaler(), model)\n",
        "  pred_y = model_pipe.fit(x_train, y_train).predict(x_test)\n",
        "  pred_train = model_pipe.fit(x_train, y_train).predict(x_train)\n",
        "\n",
        "  acc = accuracy_score(y_test, pred_y)\n",
        "  print(\"Classification accuracy:\", acc, \"(\" + str(round(acc*100, 2)) + \"%)\")\n",
        "  acc_train = accuracy_score(y_train, pred_train)\n",
        "  print(\"Train classification accuracy:\", acc_train, \"(\" + str(round(acc_train*100, 2)) + \"%)\")\n",
        "\n",
        "  f1sc = f1_score(pred_y, y_test, average=\"weighted\");\n",
        "  print(\"\\nWeighted average F1-score:\", f1sc, \"(\" + str(round(f1sc*100, 2)) + \"%)\")\n",
        "  f1sc_train = f1_score(pred_train, y_train, average=\"weighted\");\n",
        "  print(\"Train weighted average F1-score:\", f1sc_train, \"(\" + str(round(f1sc_train*100, 2)) + \"%)\")\n",
        "\n",
        "  print(\"\\nPrecision Recall Curve\")\n",
        "  plot_precision_recall_curve(model, x_test, y_test)\n",
        "  plt.show()\n",
        "\n",
        "  print(\"\\nConfusion Matrix\")\n",
        "  plot_confusion_matrix(model, x_test, y_test)\n",
        "  plt.show()\n",
        "\n",
        "  print(\"\\nReceiver Operating Characteristic (ROC) Curve\")\n",
        "  plot_roc_curve(model, x_test, y_test)\n",
        "  plt.show()\n",
        "\n",
        "  # auc = roc_auc_score(y_test, pred_y)\n",
        "  # print(\"\\nROC AUC score:\", auc, \"(\" + str(round(auc*100, 2)) + \"%)\")\n",
        "\n",
        "  # print(\"\\nClassification Report\")\n",
        "  # target_names = [str(i) for i in range(10)]\n",
        "  # print(classification_report(y_test, pred_y))\n",
        "\n",
        "  if not grid_search:\n",
        "    return\n",
        "\n",
        "  gscv = GridSearchCV(model, grid_params, cv=10, scoring=\"f1\", n_jobs=-1)\n",
        "  gscv.fit(x_train, y_train)\n",
        "\n",
        "  print(\"\\nBest hyper parameters:\", gscv.best_params_)\n",
        "\n",
        "  best_dtc = gscv.best_estimator_\n",
        "  print(\"\\nBest classifier evaluation:\")\n",
        "  print(best_dtc)\n",
        "\n",
        "  gscv_pred = gscv.predict(x_test)\n",
        "\n",
        "  acc = accuracy_score(y_test, gscv_pred)\n",
        "  print(\"\\nGSCV classification accuracy:\", acc, \"(\" + str(round(acc*100, 2)) + \"%)\")\n",
        "  acc_train = accuracy_score(y_train, gscv.predict(x_train))\n",
        "  print(\"GSCV train classification accuracy:\", acc_train, \"(\" + str(round(acc_train*100, 2)) + \"%)\")\n",
        "\n",
        "  gscvf1 = f1_score(gscv_pred, y_test, average=\"weighted\")\n",
        "  print(\"\\nWeighted average grid search F1-score:\",  gscvf1, \"(\" + str(round(gscvf1*100, 2)) + \"%)\")\n",
        "\n",
        "  print('\\nGrid Search fitted confusion matrix')\n",
        "  plot_confusion_matrix(best_dtc, x_test, y_test)\n",
        "  plt.show()\n",
        "\n",
        "  print(\"\\nGrid Search fitted ROC Curve\")\n",
        "  plot_roc_curve(best_dtc, x_test, y_test)\n",
        "  plt.show()\n",
        "\n",
        "  # test_pred = model.predict(test)\n",
        "  # for i in range(len(test_pred)):\n",
        "\t#   print(\"X=%s, Predicted=%s\" % (test[i], test_pred[i]))"
      ],
      "execution_count": null,
      "outputs": []
    },
    {
      "cell_type": "markdown",
      "metadata": {
        "id": "ijGDuQ3_huiz"
      },
      "source": [
        "**Logistic Regression**\n",
        "\n",
        "We chose Logistic Regression as our baseline model, because it is one of the simplest machine learning algorithms and often used for binary classification problems, it's efficient and has a good accuracy for more simple datasets.\n",
        "\n",
        "Logistic regression is an extension to the linear regression algorithm, it also uses an equation as the representation, though, instead of predicting the actual continuous value, we predict the probability of an outcome. It works better when there is not a lot of categorical data.\n",
        "Input values (x) are combined linearly using weights or coefficient values to predict an output value (y). A key difference from linear regression is that the output value being modeled is a binary values (0 or 1) rather than a numeric value (that's why logistic regression is so often used for solving binary classification problems). The coefficient values are estimated from the training data using maximum-likelihood estimation (learning algorithm used by a variety of machine learning algorithms)."
      ]
    },
    {
      "cell_type": "code",
      "metadata": {
        "id": "geY2JhXM7Rmu"
      },
      "source": [
        "grid_params = {\n",
        "    \"penalty\": ['l1', 'l2', 'elasticnet', 'none'],\n",
        "    \"C\": [0.0, 0.001, 0.01, 0.1, 1.0],\n",
        "    \"solver\": ['newton-cg', 'lbfgs', 'liblinear', 'sag', 'saga'],\n",
        "    \"max_iter\": [10, 50, 100, 150, 200],\n",
        "}\n",
        "evaluate_model(LogisticRegression(), X_edited, y, grid_params)"
      ],
      "execution_count": null,
      "outputs": []
    },
    {
      "cell_type": "markdown",
      "metadata": {
        "id": "shRoVDKkhx75"
      },
      "source": [
        "**Decision Tree Classification**\n",
        "\n",
        "Decision trees are used for classification as well as regression. They split data into smaller and smaller subsets using entropy and divide the tree into decision nodes and leaf nodes. Basically they create a flowchart where the leaf nodes represent classification outputs/decisions. It's computationally very cheap, but prune to overfitting. We opted for this model mainly because it's one of the most commonly used models for classification problems."
      ]
    },
    {
      "cell_type": "code",
      "metadata": {
        "id": "HCr7trUhXdPl"
      },
      "source": [
        "grid_params = {\n",
        "    \"max_depth\": [3, 5, 10, 20, 50],\n",
        "    \"min_samples_leaf\": [1, 3, 5, 7, 10],\n",
        "    \"criterion\": ['gini\"', 'entropy'],\n",
        "    \"ccp_alpha\": [0.0, 0.001, 0.01, 0.1, 0.3],\n",
        "}\n",
        "evaluate_model(DecisionTreeClassifier(), X_edited, y, grid_params)"
      ],
      "execution_count": null,
      "outputs": []
    },
    {
      "cell_type": "markdown",
      "metadata": {
        "id": "JfxiWIpSh0U2"
      },
      "source": [
        "**K-Nearest Neighbours Classification**\n",
        "\n",
        "We chose K-Nearest Neighbours because it is often used for classification problems, though, it's mainly good for multiclass classification. In our case we work with binary classification problem but we wanted to see how it does in comparison to other models.\n",
        "\n",
        "The K-nearest neighbors (KNN) algorithm is a type of supervised machine learning algorithms. It is simple and yet performs quite complex classification tasks, though it has harder time dealing with categorical values.\n",
        "It works by calculating the distance of a new data point to all other training data points. The distance can be of any type for example Euclidean or Manhattan. It then selects the K-nearest data points, where K can be any integer. Finally it assigns the data point to the class to which the majority of the K data points belong. It basically keeps a collection of all distances which is then sorted, first K entries are picked and since this is a classification problem, the mode of K labels is returned (if it was a regression problem, the mean of K labels would be the outcome)."
      ]
    },
    {
      "cell_type": "code",
      "metadata": {
        "id": "gJL9fQI9XgSs"
      },
      "source": [
        "grid_params = {\n",
        "    \"n_neighbors\": [1, 5, 10, 15, 20],\n",
        "    \"weights\": ['uniform', 'distance'],\n",
        "    \"algorithm\": ['auto', 'ball_tree', 'kd_tree', 'brute'],\n",
        "    \"metric\": ['euclidean', 'manhattan', 'minkowski'],\n",
        "}\n",
        "evaluate_model(KNeighborsClassifier(), X_edited, y, grid_params)"
      ],
      "execution_count": null,
      "outputs": []
    },
    {
      "cell_type": "markdown",
      "metadata": {
        "id": "QkKkJvbnh483"
      },
      "source": [
        "**Random Forest Classification**\n",
        "\n",
        "Random forest takes a number of decision tree classifiers and fits them on various sub-samples of the dataset. It uses averaging to improve the predictive accuracy and control over-fitting. It works well even without hyperparameters. We chose this classifier because we thought it might be interesting to see how it works compared to a  Decision Tree especially without fitting it's hyperparameters since that often results in errors."
      ]
    },
    {
      "cell_type": "code",
      "metadata": {
        "id": "o5tJoJ4lXjD5"
      },
      "source": [
        "evaluate_model(RandomForestClassifier(), X_edited, y, grid_params, False)"
      ],
      "execution_count": null,
      "outputs": []
    },
    {
      "cell_type": "markdown",
      "metadata": {
        "id": "sbk__Farh7Vu"
      },
      "source": [
        "**C-Support Vector Classification (SVC)**\n",
        "\n",
        "C-Support Vector (SVC) is one of Support Vector Machines (SVM). We chose SVM because it's used to solve variety of problems, not only classification and it's very versatile. We wanted to see how it performs compared to other modules.\n",
        "\n",
        "SVM can be used for classification (either binary or multiclass), regression and outliers detection. It can easily handle multiple continuous and categorical variables.\n",
        "It works by constructing a hyperplane (decision plane which separates between a set of objects having different class memberships) in multidimensional space to separate different classes. SVM generates optimal hyperplane in an iterative manner, which is used to minimize an error. The core idea of SVM is to find a maximum marginal hyperplane (MMH) that best divides the dataset into classes. Support vectors are the data points, which are closest to the hyperplane. The objective is to select a hyperplane with the maximum possible margin (distance between the either nearest points) between support vectors in the given dataset."
      ]
    },
    {
      "cell_type": "code",
      "metadata": {
        "id": "CocUtpWFXl41"
      },
      "source": [
        "print(\"C-Support Vector (SVC)\")\n",
        "grid_params = {\n",
        "    \"C\": [0.0001, 0.001, 0.1, 0.3, 1.0],\n",
        "    \"kernel\": ['linear', 'poly', 'rbf', 'sigmoid'],\n",
        "    \"gamma\": ['scale', 'auto'],\n",
        "    \"max_iter\": [-1, 0, 1, 10, 50],\n",
        "}\n",
        "evaluate_model(SVC(), X_edited, y, grid_params)"
      ],
      "execution_count": null,
      "outputs": []
    },
    {
      "cell_type": "markdown",
      "metadata": {
        "id": "05Bq7gr8fqPN"
      },
      "source": [
        "# Conclusion"
      ]
    },
    {
      "cell_type": "markdown",
      "metadata": {
        "id": "AY7Hsn477nCd"
      },
      "source": [
        "We noticed that SVC and Logistic Regression models are slightly more effective in this case and that Decision Tree's results seems to be less accurate. The rest of the models are more-less the same.\n",
        "\n",
        "Default testing data sample is 0.25, though when trying out smaller portion of data we noticed few models having a tad better accuracy, mainly Decision Tree, which went from 62% to 72% (the rest only increased by few percent), on the other hand Logistic Regression showed worse results.\n",
        "When trying higher amount of training all of the models had a bit better accuracy.\n",
        "\n",
        "We noticed that GridSearchCV takes longest for Logistic Regression and shortest for K-Nearest Neighbours. By fitting hyperparameter with GridSearchCV majority od models showed a slightly better results.\n",
        "\n",
        "To compare our baseline Logistic Regression model with the others, it's a bit surprising it's doing better, with higher accuracy although it's search for the right hyper parameters is quite long. It might be because the dataset is more simple and this problem is binary classification for which Logistic Regression works the best."
      ]
    },
    {
      "cell_type": "markdown",
      "metadata": {
        "id": "f0ybL-hD5gcy"
      },
      "source": [
        "Best accuracy: *Logistic Regression/SVC*\n",
        "\n",
        "Worst accuracy: *Decision Tree*\n",
        "\n",
        "\n",
        "Best weighted average F1-score: *SVC*\n",
        "\n",
        "Worst weighted average F1-score: *Decision Tree*\n",
        "\n",
        "\n",
        "Best ROC AUC score: *Logistic Regression*\n",
        "\n",
        "Worst ROC AUC score: *Decision Tree*\n",
        "\n",
        "\n",
        "Best weighted average grid search F1-score: *K-Nearest Neighbours*\n",
        "\n",
        "Worst weighted average grid search F1-score: *Decision Tree*\n",
        "\n"
      ]
    }
  ]
}